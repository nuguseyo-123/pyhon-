{
 "cells": [
  {
   "cell_type": "code",
   "execution_count": 49,
   "id": "362a6472-7b08-4580-9b7a-08b12d21f8a8",
   "metadata": {},
   "outputs": [
    {
     "data": {
      "text/plain": [
       "3"
      ]
     },
     "execution_count": 49,
     "metadata": {},
     "output_type": "execute_result"
    }
   ],
   "source": [
    "abs(3)"
   ]
  },
  {
   "cell_type": "code",
   "execution_count": 50,
   "id": "ab0b291c-dbbb-41bf-8a13-7c8662cec6c9",
   "metadata": {},
   "outputs": [
    {
     "data": {
      "text/plain": [
       "152"
      ]
     },
     "execution_count": 50,
     "metadata": {},
     "output_type": "execute_result"
    }
   ],
   "source": [
    "abs(-152)"
   ]
  },
  {
   "cell_type": "code",
   "execution_count": 51,
   "id": "ce8ed1c2-d84c-4b6b-9987-f18d24198f6d",
   "metadata": {},
   "outputs": [
    {
     "data": {
      "text/plain": [
       "1.5"
      ]
     },
     "execution_count": 51,
     "metadata": {},
     "output_type": "execute_result"
    }
   ],
   "source": [
    "abs(-1.5)"
   ]
  },
  {
   "cell_type": "code",
   "execution_count": 52,
   "id": "ddaf227d-d433-41e5-9fa7-6be4b15444f2",
   "metadata": {},
   "outputs": [
    {
     "data": {
      "text/plain": [
       "True"
      ]
     },
     "execution_count": 52,
     "metadata": {},
     "output_type": "execute_result"
    }
   ],
   "source": [
    "all([1,2,3,4,5]) # 0은 false이다."
   ]
  },
  {
   "cell_type": "code",
   "execution_count": 53,
   "id": "4c6df04e-2b06-4771-ba8e-7960e598f4b6",
   "metadata": {},
   "outputs": [
    {
     "data": {
      "text/plain": [
       "True"
      ]
     },
     "execution_count": 53,
     "metadata": {},
     "output_type": "execute_result"
    }
   ],
   "source": [
    "all([-1,1,2,3])"
   ]
  },
  {
   "cell_type": "code",
   "execution_count": 54,
   "id": "883b6a79-db3c-464c-89b9-054ff625c6ba",
   "metadata": {},
   "outputs": [
    {
     "data": {
      "text/plain": [
       "False"
      ]
     },
     "execution_count": 54,
     "metadata": {},
     "output_type": "execute_result"
    }
   ],
   "source": [
    "all([0,1])"
   ]
  },
  {
   "cell_type": "code",
   "execution_count": 58,
   "id": "c901496f-fa1e-4cbb-acdb-6febb8a84b5a",
   "metadata": {},
   "outputs": [
    {
     "data": {
      "text/plain": [
       "[2, 4, 6, 8, 10, 12, 14, 16, 18]"
      ]
     },
     "execution_count": 58,
     "metadata": {},
     "output_type": "execute_result"
    }
   ],
   "source": [
    "#for 문 2개와 range를 사용해서 구구단을 만드시오.\n",
    "list(range(2,19,2))"
   ]
  },
  {
   "cell_type": "code",
   "execution_count": 83,
   "id": "5bd18ba8-1df4-4fe1-a834-d0b94995d349",
   "metadata": {},
   "outputs": [
    {
     "data": {
      "text/plain": [
       "True"
      ]
     },
     "execution_count": 83,
     "metadata": {},
     "output_type": "execute_result"
    }
   ],
   "source": [
    "any([1,2,3,4,])"
   ]
  },
  {
   "cell_type": "code",
   "execution_count": 84,
   "id": "6cd844c5-ef28-4286-b8af-462b2e71294f",
   "metadata": {},
   "outputs": [
    {
     "data": {
      "text/plain": [
       "'a'"
      ]
     },
     "execution_count": 84,
     "metadata": {},
     "output_type": "execute_result"
    }
   ],
   "source": [
    "chr(97) #유니코"
   ]
  },
  {
   "cell_type": "code",
   "execution_count": 87,
   "id": "5cacb286-b5d3-4d8f-9c35-309ae1b77f15",
   "metadata": {},
   "outputs": [
    {
     "data": {
      "text/plain": [
       "3"
      ]
     },
     "execution_count": 87,
     "metadata": {},
     "output_type": "execute_result"
    }
   ],
   "source": [
    "eval('1+2')"
   ]
  },
  {
   "cell_type": "code",
   "execution_count": 89,
   "id": "f0bbcd2b-a337-4d2b-87bd-0a552cb9707a",
   "metadata": {},
   "outputs": [
    {
     "data": {
      "text/plain": [
       "'mybnae'"
      ]
     },
     "execution_count": 89,
     "metadata": {},
     "output_type": "execute_result"
    }
   ],
   "source": [
    "eval(\"'my'+'bnae'\")"
   ]
  },
  {
   "cell_type": "code",
   "execution_count": null,
   "id": "d4faeacc-6bb7-4ba3-9793-b94558cb90a4",
   "metadata": {},
   "outputs": [],
   "source": []
  },
  {
   "cell_type": "code",
   "execution_count": 75,
   "id": "14b2889f-ac3c-4de7-88b1-39b1533edf76",
   "metadata": {},
   "outputs": [
    {
     "name": "stdout",
     "output_type": "stream",
     "text": [
      "___2단___\n",
      "2*1=2\n",
      "2*2=4\n",
      "2*3=6\n",
      "2*4=8\n",
      "2*5=10\n",
      "2*6=12\n",
      "2*7=14\n",
      "2*8=16\n",
      "2*9=18\n",
      "___3단___\n",
      "3*1=3\n",
      "3*2=6\n",
      "3*3=9\n",
      "3*4=12\n",
      "3*5=15\n",
      "3*6=18\n",
      "3*7=21\n",
      "3*8=24\n",
      "3*9=27\n",
      "___4단___\n",
      "4*1=4\n",
      "4*2=8\n",
      "4*3=12\n",
      "4*4=16\n",
      "4*5=20\n",
      "4*6=24\n",
      "4*7=28\n",
      "4*8=32\n",
      "4*9=36\n",
      "___5단___\n",
      "5*1=5\n",
      "5*2=10\n",
      "5*3=15\n",
      "5*4=20\n",
      "5*5=25\n",
      "5*6=30\n",
      "5*7=35\n",
      "5*8=40\n",
      "5*9=45\n",
      "___6단___\n",
      "6*1=6\n",
      "6*2=12\n",
      "6*3=18\n",
      "6*4=24\n",
      "6*5=30\n",
      "6*6=36\n",
      "6*7=42\n",
      "6*8=48\n",
      "6*9=54\n",
      "___7단___\n",
      "7*1=7\n",
      "7*2=14\n",
      "7*3=21\n",
      "7*4=28\n",
      "7*5=35\n",
      "7*6=42\n",
      "7*7=49\n",
      "7*8=56\n",
      "7*9=63\n",
      "___8단___\n",
      "8*1=8\n",
      "8*2=16\n",
      "8*3=24\n",
      "8*4=32\n",
      "8*5=40\n",
      "8*6=48\n",
      "8*7=56\n",
      "8*8=64\n",
      "8*9=72\n",
      "___9단___\n",
      "9*1=9\n",
      "9*2=18\n",
      "9*3=27\n",
      "9*4=36\n",
      "9*5=45\n",
      "9*6=54\n",
      "9*7=63\n",
      "9*8=72\n",
      "9*9=81\n"
     ]
    }
   ],
   "source": [
    "#구구단\n",
    "\n",
    "for dan in range(2,10):\n",
    "    print(f\"___{dan}단___\")\n",
    "    for i in range(1, 10):\n",
    "        print(f\"{dan}*{i}={dan*i}\")\n",
    "    \n"
   ]
  },
  {
   "cell_type": "code",
   "execution_count": 1,
   "id": "49f69170-eb16-4d1f-bc60-a5ad7b39a668",
   "metadata": {},
   "outputs": [
    {
     "data": {
      "text/plain": [
       "['__add__',\n",
       " '__class__',\n",
       " '__class_getitem__',\n",
       " '__contains__',\n",
       " '__delattr__',\n",
       " '__delitem__',\n",
       " '__dir__',\n",
       " '__doc__',\n",
       " '__eq__',\n",
       " '__format__',\n",
       " '__ge__',\n",
       " '__getattribute__',\n",
       " '__getitem__',\n",
       " '__getstate__',\n",
       " '__gt__',\n",
       " '__hash__',\n",
       " '__iadd__',\n",
       " '__imul__',\n",
       " '__init__',\n",
       " '__init_subclass__',\n",
       " '__iter__',\n",
       " '__le__',\n",
       " '__len__',\n",
       " '__lt__',\n",
       " '__mul__',\n",
       " '__ne__',\n",
       " '__new__',\n",
       " '__reduce__',\n",
       " '__reduce_ex__',\n",
       " '__repr__',\n",
       " '__reversed__',\n",
       " '__rmul__',\n",
       " '__setattr__',\n",
       " '__setitem__',\n",
       " '__sizeof__',\n",
       " '__str__',\n",
       " '__subclasshook__',\n",
       " 'append',\n",
       " 'clear',\n",
       " 'copy',\n",
       " 'count',\n",
       " 'extend',\n",
       " 'index',\n",
       " 'insert',\n",
       " 'pop',\n",
       " 'remove',\n",
       " 'reverse',\n",
       " 'sort']"
      ]
     },
     "execution_count": 1,
     "metadata": {},
     "output_type": "execute_result"
    }
   ],
   "source": [
    "dir([1,2,3]) #리스트 형태"
   ]
  },
  {
   "cell_type": "code",
   "execution_count": 5,
   "id": "517610f4-8979-4485-9d8c-060cf1c987be",
   "metadata": {},
   "outputs": [
    {
     "data": {
      "text/plain": [
       "['__add__',\n",
       " '__class__',\n",
       " '__class_getitem__',\n",
       " '__contains__',\n",
       " '__delattr__',\n",
       " '__delitem__',\n",
       " '__dir__',\n",
       " '__doc__',\n",
       " '__eq__',\n",
       " '__format__',\n",
       " '__ge__',\n",
       " '__getattribute__',\n",
       " '__getitem__',\n",
       " '__getstate__',\n",
       " '__gt__',\n",
       " '__hash__',\n",
       " '__iadd__',\n",
       " '__imul__',\n",
       " '__init__',\n",
       " '__init_subclass__',\n",
       " '__iter__',\n",
       " '__le__',\n",
       " '__len__',\n",
       " '__lt__',\n",
       " '__mul__',\n",
       " '__ne__',\n",
       " '__new__',\n",
       " '__reduce__',\n",
       " '__reduce_ex__',\n",
       " '__repr__',\n",
       " '__reversed__',\n",
       " '__rmul__',\n",
       " '__setattr__',\n",
       " '__setitem__',\n",
       " '__sizeof__',\n",
       " '__str__',\n",
       " '__subclasshook__',\n",
       " 'append',\n",
       " 'clear',\n",
       " 'copy',\n",
       " 'count',\n",
       " 'extend',\n",
       " 'index',\n",
       " 'insert',\n",
       " 'pop',\n",
       " 'remove',\n",
       " 'reverse',\n",
       " 'sort']"
      ]
     },
     "execution_count": 5,
     "metadata": {},
     "output_type": "execute_result"
    }
   ],
   "source": [
    "dir(['1','a']) # __ 붙어 있는거 다 내장함수다, 딕셔너리 형태이다."
   ]
  },
  {
   "cell_type": "code",
   "execution_count": 6,
   "id": "9ec5ef6b-ae9e-471b-8d76-81822d498427",
   "metadata": {},
   "outputs": [
    {
     "data": {
      "text/plain": [
       "(2, 1)"
      ]
     },
     "execution_count": 6,
     "metadata": {},
     "output_type": "execute_result"
    }
   ],
   "source": [
    "divmod(7,3)  #divmod(a,b) a와 b를 나눈 값과 나머지"
   ]
  },
  {
   "cell_type": "code",
   "execution_count": 8,
   "id": "4ec5de54-bc35-41dd-acfa-8e54b2580f4c",
   "metadata": {},
   "outputs": [
    {
     "ename": "SyntaxError",
     "evalue": "invalid syntax (4137904552.py, line 3)",
     "output_type": "error",
     "traceback": [
      "\u001b[1;36m  Cell \u001b[1;32mIn[8], line 3\u001b[1;36m\u001b[0m\n\u001b[1;33m    for i name in enumerate(['a','b','c','f','h','k'])\u001b[0m\n\u001b[1;37m          ^\u001b[0m\n\u001b[1;31mSyntaxError\u001b[0m\u001b[1;31m:\u001b[0m invalid syntax\n"
     ]
    }
   ],
   "source": [
    "# enumertate(x) 열거\n",
    "\n",
    "for i name in enumerate(['a','b','c','f','h','k'])\n",
    "\n"
   ]
  },
  {
   "cell_type": "code",
   "execution_count": 10,
   "id": "e4b1a2cb-9a8e-4cc3-bf20-653b734b2b29",
   "metadata": {},
   "outputs": [
    {
     "name": "stdout",
     "output_type": "stream",
     "text": [
      "[1, 5, 6]\n"
     ]
    }
   ],
   "source": [
    "#filter(함수,반복 가능한 데이터) >> 반복 가능한 데이터의 요소 순서대로 함수를 호출했을 때 리턴값이 참인것만 묶어서 리턴\n",
    "\n",
    "def positive(l):\n",
    "    return l >0\n",
    "\n",
    "print(list(filter(positive, [1,-3,5,0,-2,6])))"
   ]
  },
  {
   "cell_type": "code",
   "execution_count": 13,
   "id": "7dbbe14f-194c-4193-8c00-6db0928e6c8e",
   "metadata": {},
   "outputs": [
    {
     "data": {
      "text/plain": [
       "'0xff'"
      ]
     },
     "execution_count": 13,
     "metadata": {},
     "output_type": "execute_result"
    }
   ],
   "source": [
    "#hex 헥사코드 정수 값을 입력 받아 16진수 문자열로 리턴 0x??   ??는 영어 순으로 a=1 b=2.... 식으로\n",
    "\n",
    "hex(255)\n",
    "#결과 값 0*ff"
   ]
  },
  {
   "cell_type": "code",
   "execution_count": 14,
   "id": "7dd5ab06-1c43-472b-a7c1-019ed34f946b",
   "metadata": {},
   "outputs": [
    {
     "data": {
      "text/plain": [
       "'0x98'"
      ]
     },
     "execution_count": 14,
     "metadata": {},
     "output_type": "execute_result"
    }
   ],
   "source": [
    "hex(152)"
   ]
  },
  {
   "cell_type": "code",
   "execution_count": 16,
   "id": "56ffb8b2-ecb1-4c50-ac35-6af8f26ba6fe",
   "metadata": {},
   "outputs": [
    {
     "data": {
      "text/plain": [
       "140708232571384"
      ]
     },
     "execution_count": 16,
     "metadata": {},
     "output_type": "execute_result"
    }
   ],
   "source": [
    "#id(object) 객체를 입력 받아 고유 주솟값을 리턴\n",
    "\n",
    "a=3\n",
    "id(3)\n",
    "\n",
    "# help 주솟값이 뭔데요\n"
   ]
  },
  {
   "cell_type": "code",
   "execution_count": 18,
   "id": "e2d5cc22-7ad3-4a15-996a-ac067368080f",
   "metadata": {},
   "outputs": [
    {
     "data": {
      "text/plain": [
       "140708232571384"
      ]
     },
     "execution_count": 18,
     "metadata": {},
     "output_type": "execute_result"
    }
   ],
   "source": [
    "b=a\n",
    "id(b)"
   ]
  },
  {
   "cell_type": "code",
   "execution_count": 19,
   "id": "48f9d5b4-05d7-4b6f-9a49-e97c19d47c72",
   "metadata": {},
   "outputs": [
    {
     "data": {
      "text/plain": [
       "3"
      ]
     },
     "execution_count": 19,
     "metadata": {},
     "output_type": "execute_result"
    }
   ],
   "source": [
    "#input 사용자 입력을 받는 함수 입력 인수로 문자열을 전달하면 그 문자열은 프롬프트가 됨.\n",
    "#int 문자열 형태의 숫자나 소수점이 있는 숫자를 정수로 리턴\n",
    "int(3.5)"
   ]
  },
  {
   "cell_type": "code",
   "execution_count": 20,
   "id": "925585ff-2aa4-491b-97ff-555e0af4ff04",
   "metadata": {},
   "outputs": [
    {
     "data": {
      "text/plain": [
       "3"
      ]
     },
     "execution_count": 20,
     "metadata": {},
     "output_type": "execute_result"
    }
   ],
   "source": [
    "#radix 진수로 표현된 문자열 x를 10진수로 변환하여 리턴\n",
    "int('11',2)"
   ]
  },
  {
   "cell_type": "code",
   "execution_count": 22,
   "id": "e70b9d7d-d0fa-433c-b488-658acab28abf",
   "metadata": {},
   "outputs": [
    {
     "data": {
      "text/plain": [
       "26"
      ]
     },
     "execution_count": 22,
     "metadata": {},
     "output_type": "execute_result"
    }
   ],
   "source": [
    "int ('1A',16) # 이거 왜 이렇게 결과값 나오는지 모르겠다. 1a가 몇인데?"
   ]
  },
  {
   "cell_type": "code",
   "execution_count": 23,
   "id": "63803d66-5162-498d-ad6b-4b0ab118ad57",
   "metadata": {},
   "outputs": [],
   "source": [
    "#isinstance(object, class)"
   ]
  },
  {
   "cell_type": "code",
   "execution_count": 24,
   "id": "7b0fd325-b95e-41bf-b3ff-d2d0a8d02e9d",
   "metadata": {},
   "outputs": [
    {
     "data": {
      "text/plain": [
       "6"
      ]
     },
     "execution_count": 24,
     "metadata": {},
     "output_type": "execute_result"
    }
   ],
   "source": [
    "#len(s) 입력값 s의 길이(전체 개수)를 리턴\n",
    "len(\"python\")"
   ]
  },
  {
   "cell_type": "code",
   "execution_count": 25,
   "id": "d5aa83d1-1a58-431c-a09a-accc457e4735",
   "metadata": {},
   "outputs": [],
   "source": [
    "# list(iterable)"
   ]
  },
  {
   "cell_type": "code",
   "execution_count": 26,
   "id": "3aad3ce2-d517-4e6c-851c-3e33e4778d4f",
   "metadata": {},
   "outputs": [
    {
     "data": {
      "text/plain": [
       "[2, 4, 6, 8]"
      ]
     },
     "execution_count": 26,
     "metadata": {},
     "output_type": "execute_result"
    }
   ],
   "source": [
    "#map(f, iterable)\n",
    "\n",
    "def two_times(x):\n",
    "    return x*2\n",
    "\n",
    "list(map(two_times, [1,2,3,4]))"
   ]
  },
  {
   "cell_type": "code",
   "execution_count": 27,
   "id": "4352d9e8-2802-49bd-acca-c4d6a8d75a50",
   "metadata": {},
   "outputs": [],
   "source": [
    "#map lambda 활용"
   ]
  },
  {
   "cell_type": "code",
   "execution_count": 28,
   "id": "905d2997-d7cc-4a30-99e0-8cb6077c8eeb",
   "metadata": {},
   "outputs": [],
   "source": [
    "#max 입력한 값의 최대값 구해줌"
   ]
  },
  {
   "cell_type": "code",
   "execution_count": 29,
   "id": "7396c2c3-90b3-44be-940c-d5f51a05a7af",
   "metadata": {},
   "outputs": [
    {
     "data": {
      "text/plain": [
       "'0o42'"
      ]
     },
     "execution_count": 29,
     "metadata": {},
     "output_type": "execute_result"
    }
   ],
   "source": [
    "#oct 8진수로 문자열 바꿈\n",
    "\n",
    "oct(34) "
   ]
  },
  {
   "cell_type": "code",
   "execution_count": 31,
   "id": "2688980d-5869-4aa6-8d4e-9a48457f2061",
   "metadata": {},
   "outputs": [
    {
     "ename": "FileNotFoundError",
     "evalue": "[Errno 2] No such file or directory: 'test'",
     "output_type": "error",
     "traceback": [
      "\u001b[1;31m---------------------------------------------------------------------------\u001b[0m",
      "\u001b[1;31mFileNotFoundError\u001b[0m                         Traceback (most recent call last)",
      "Cell \u001b[1;32mIn[31], line 2\u001b[0m\n\u001b[0;32m      1\u001b[0m \u001b[38;5;66;03m#open 파일 객체를 연다\u001b[39;00m\n\u001b[1;32m----> 2\u001b[0m f\u001b[38;5;241m=\u001b[39m\u001b[38;5;28mopen\u001b[39m(\u001b[38;5;124m\"\u001b[39m\u001b[38;5;124mtest\u001b[39m\u001b[38;5;124m\"\u001b[39m,\u001b[38;5;124m\"\u001b[39m\u001b[38;5;124mrb\u001b[39m\u001b[38;5;124m\"\u001b[39m)\n",
      "File \u001b[1;32m~\\.conda\\envs\\python312tf9\\Lib\\site-packages\\IPython\\core\\interactiveshell.py:324\u001b[0m, in \u001b[0;36m_modified_open\u001b[1;34m(file, *args, **kwargs)\u001b[0m\n\u001b[0;32m    317\u001b[0m \u001b[38;5;28;01mif\u001b[39;00m file \u001b[38;5;129;01min\u001b[39;00m {\u001b[38;5;241m0\u001b[39m, \u001b[38;5;241m1\u001b[39m, \u001b[38;5;241m2\u001b[39m}:\n\u001b[0;32m    318\u001b[0m     \u001b[38;5;28;01mraise\u001b[39;00m \u001b[38;5;167;01mValueError\u001b[39;00m(\n\u001b[0;32m    319\u001b[0m         \u001b[38;5;124mf\u001b[39m\u001b[38;5;124m\"\u001b[39m\u001b[38;5;124mIPython won\u001b[39m\u001b[38;5;124m'\u001b[39m\u001b[38;5;124mt let you open fd=\u001b[39m\u001b[38;5;132;01m{\u001b[39;00mfile\u001b[38;5;132;01m}\u001b[39;00m\u001b[38;5;124m by default \u001b[39m\u001b[38;5;124m\"\u001b[39m\n\u001b[0;32m    320\u001b[0m         \u001b[38;5;124m\"\u001b[39m\u001b[38;5;124mas it is likely to crash IPython. If you know what you are doing, \u001b[39m\u001b[38;5;124m\"\u001b[39m\n\u001b[0;32m    321\u001b[0m         \u001b[38;5;124m\"\u001b[39m\u001b[38;5;124myou can use builtins\u001b[39m\u001b[38;5;124m'\u001b[39m\u001b[38;5;124m open.\u001b[39m\u001b[38;5;124m\"\u001b[39m\n\u001b[0;32m    322\u001b[0m     )\n\u001b[1;32m--> 324\u001b[0m \u001b[38;5;28;01mreturn\u001b[39;00m io_open(file, \u001b[38;5;241m*\u001b[39margs, \u001b[38;5;241m*\u001b[39m\u001b[38;5;241m*\u001b[39mkwargs)\n",
      "\u001b[1;31mFileNotFoundError\u001b[0m: [Errno 2] No such file or directory: 'test'"
     ]
    }
   ],
   "source": [
    "#open 파일 객체를 연다\n",
    "f=open(\"test\",\"rb\") #w=쓰기 r= 읽기 a=추가모드 b=바이너리 모드, #파일명에 확장자 없어도 가능하다."
   ]
  },
  {
   "cell_type": "code",
   "execution_count": 32,
   "id": "00d4ebcb-b9c0-4aa9-a6a4-a5f6ecf29a82",
   "metadata": {},
   "outputs": [
    {
     "data": {
      "text/plain": [
       "97"
      ]
     },
     "execution_count": 32,
     "metadata": {},
     "output_type": "execute_result"
    }
   ],
   "source": [
    "#ord 문자의 유니코드 숫자 값을 리턴 < < <\n",
    "\n",
    "ord('a')"
   ]
  },
  {
   "cell_type": "code",
   "execution_count": 33,
   "id": "6203bbbc-9732-460c-be30-856dbcf6965f",
   "metadata": {},
   "outputs": [
    {
     "data": {
      "text/plain": [
       "128"
      ]
     },
     "execution_count": 33,
     "metadata": {},
     "output_type": "execute_result"
    }
   ],
   "source": [
    "#pow(a,b) a를 b 제곡 한 값\n",
    "pow(2,7)"
   ]
  },
  {
   "cell_type": "code",
   "execution_count": 34,
   "id": "4c1b1fa3-22d5-4857-b827-b054af3d8417",
   "metadata": {},
   "outputs": [
    {
     "data": {
      "text/plain": [
       "[0, 1, 2, 3, 4]"
      ]
     },
     "execution_count": 34,
     "metadata": {},
     "output_type": "execute_result"
    }
   ],
   "source": [
    "# range([start],stop[stop]) 입력받은 숫자에 해당하는 범위 값을 반복 가능한 객체로 만든다.\n",
    "list(range(5))  #시작 숫자를 정해주지 않으면 0부터 시작"
   ]
  },
  {
   "cell_type": "code",
   "execution_count": 35,
   "id": "9ae0b429-ddf2-4b61-9940-df83f946fad8",
   "metadata": {},
   "outputs": [
    {
     "data": {
      "text/plain": [
       "[5, 6, 7, 8, 9]"
      ]
     },
     "execution_count": 35,
     "metadata": {},
     "output_type": "execute_result"
    }
   ],
   "source": [
    "list(range(5,10)) #5부터 시작해서 10 직전까지"
   ]
  },
  {
   "cell_type": "code",
   "execution_count": 40,
   "id": "014e3659-2ea6-4a75-bf27-186b86bf6bfd",
   "metadata": {},
   "outputs": [
    {
     "data": {
      "text/plain": [
       "[0, 2, 4, 6, 8]"
      ]
     },
     "execution_count": 40,
     "metadata": {},
     "output_type": "execute_result"
    }
   ],
   "source": [
    "list(range(0,10,2)) #0부터 10까지 2칸씩"
   ]
  },
  {
   "cell_type": "code",
   "execution_count": 41,
   "id": "7b61ca02-a117-4913-8dac-de9592f5480a",
   "metadata": {},
   "outputs": [
    {
     "data": {
      "text/plain": [
       "4"
      ]
     },
     "execution_count": 41,
     "metadata": {},
     "output_type": "execute_result"
    }
   ],
   "source": [
    "# round 반올림\n",
    "round(4.3)"
   ]
  },
  {
   "cell_type": "code",
   "execution_count": 42,
   "id": "a3772e7f-65f3-4483-abaf-3179acacb25c",
   "metadata": {},
   "outputs": [
    {
     "data": {
      "text/plain": [
       "5"
      ]
     },
     "execution_count": 42,
     "metadata": {},
     "output_type": "execute_result"
    }
   ],
   "source": [
    "round(4.6)"
   ]
  },
  {
   "cell_type": "code",
   "execution_count": 44,
   "id": "caf186f4-4dbc-46da-888d-fedef05ea1ee",
   "metadata": {},
   "outputs": [
    {
     "data": {
      "text/plain": [
       "4.7"
      ]
     },
     "execution_count": 44,
     "metadata": {},
     "output_type": "execute_result"
    }
   ],
   "source": [
    "round(4.65,1) #세번째 숫자는 소수점 몇번째까지 반올림 할 것인가"
   ]
  },
  {
   "cell_type": "code",
   "execution_count": 48,
   "id": "10a69447-87c8-42fd-9d0a-f0aeb2ab1179",
   "metadata": {},
   "outputs": [
    {
     "data": {
      "text/plain": [
       "('a', 'b', 'c')"
      ]
     },
     "execution_count": 48,
     "metadata": {},
     "output_type": "execute_result"
    }
   ],
   "source": [
    "tuple(\"abc\")"
   ]
  },
  {
   "cell_type": "code",
   "execution_count": null,
   "id": "75856729-8c84-4a78-a70e-0caa44fe22f0",
   "metadata": {},
   "outputs": [],
   "source": []
  }
 ],
 "metadata": {
  "kernelspec": {
   "display_name": "Python 3 (ipykernel)",
   "language": "python",
   "name": "python3"
  },
  "language_info": {
   "codemirror_mode": {
    "name": "ipython",
    "version": 3
   },
   "file_extension": ".py",
   "mimetype": "text/x-python",
   "name": "python",
   "nbconvert_exporter": "python",
   "pygments_lexer": "ipython3",
   "version": "3.12.9"
  }
 },
 "nbformat": 4,
 "nbformat_minor": 5
}
